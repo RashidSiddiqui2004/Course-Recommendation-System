{
 "cells": [
  {
   "cell_type": "code",
   "execution_count": 9,
   "metadata": {},
   "outputs": [],
   "source": [
    "import pandas as pd\n",
    "import numpy as np\n",
    "import matplotlib.pyplot as plt"
   ]
  },
  {
   "cell_type": "code",
   "execution_count": 10,
   "metadata": {},
   "outputs": [
    {
     "data": {
      "text/html": [
       "<div>\n",
       "<style scoped>\n",
       "    .dataframe tbody tr th:only-of-type {\n",
       "        vertical-align: middle;\n",
       "    }\n",
       "\n",
       "    .dataframe tbody tr th {\n",
       "        vertical-align: top;\n",
       "    }\n",
       "\n",
       "    .dataframe thead th {\n",
       "        text-align: right;\n",
       "    }\n",
       "</style>\n",
       "<table border=\"1\" class=\"dataframe\">\n",
       "  <thead>\n",
       "    <tr style=\"text-align: right;\">\n",
       "      <th></th>\n",
       "      <th>Course Name</th>\n",
       "      <th>Course Description</th>\n",
       "      <th>Tags</th>\n",
       "    </tr>\n",
       "  </thead>\n",
       "  <tbody>\n",
       "    <tr>\n",
       "      <th>0</th>\n",
       "      <td>Introduction to Python Programming</td>\n",
       "      <td>Learn the fundamentals of Python programming l...</td>\n",
       "      <td>programming, python</td>\n",
       "    </tr>\n",
       "    <tr>\n",
       "      <th>1</th>\n",
       "      <td>Web Development with HTML and CSS</td>\n",
       "      <td>Build static web pages using HTML and CSS.</td>\n",
       "      <td>web development, HTML, CSS</td>\n",
       "    </tr>\n",
       "    <tr>\n",
       "      <th>2</th>\n",
       "      <td>Machine Learning Fundamentals</td>\n",
       "      <td>An introductory course to machine learning con...</td>\n",
       "      <td>machine learning, AI</td>\n",
       "    </tr>\n",
       "    <tr>\n",
       "      <th>3</th>\n",
       "      <td>Preparation for JEE Main</td>\n",
       "      <td>Comprehensive preparation for the JEE Main exam.</td>\n",
       "      <td>JEE, engineering, exam preparation</td>\n",
       "    </tr>\n",
       "    <tr>\n",
       "      <th>4</th>\n",
       "      <td>Advanced Python Programming</td>\n",
       "      <td>Explore advanced Python topics like decorators...</td>\n",
       "      <td>programming, python</td>\n",
       "    </tr>\n",
       "  </tbody>\n",
       "</table>\n",
       "</div>"
      ],
      "text/plain": [
       "                          Course Name  \\\n",
       "0  Introduction to Python Programming   \n",
       "1   Web Development with HTML and CSS   \n",
       "2       Machine Learning Fundamentals   \n",
       "3            Preparation for JEE Main   \n",
       "4         Advanced Python Programming   \n",
       "\n",
       "                                  Course Description  \\\n",
       "0  Learn the fundamentals of Python programming l...   \n",
       "1         Build static web pages using HTML and CSS.   \n",
       "2  An introductory course to machine learning con...   \n",
       "3   Comprehensive preparation for the JEE Main exam.   \n",
       "4  Explore advanced Python topics like decorators...   \n",
       "\n",
       "                                 Tags  \n",
       "0                 programming, python  \n",
       "1          web development, HTML, CSS  \n",
       "2                machine learning, AI  \n",
       "3  JEE, engineering, exam preparation  \n",
       "4                 programming, python  "
      ]
     },
     "execution_count": 10,
     "metadata": {},
     "output_type": "execute_result"
    }
   ],
   "source": [
    "courses = pd.read_csv(\"courses2.csv\")\n",
    "courses.head()"
   ]
  },
  {
   "cell_type": "code",
   "execution_count": 11,
   "metadata": {},
   "outputs": [
    {
     "data": {
      "text/html": [
       "<div>\n",
       "<style scoped>\n",
       "    .dataframe tbody tr th:only-of-type {\n",
       "        vertical-align: middle;\n",
       "    }\n",
       "\n",
       "    .dataframe tbody tr th {\n",
       "        vertical-align: top;\n",
       "    }\n",
       "\n",
       "    .dataframe thead th {\n",
       "        text-align: right;\n",
       "    }\n",
       "</style>\n",
       "<table border=\"1\" class=\"dataframe\">\n",
       "  <thead>\n",
       "    <tr style=\"text-align: right;\">\n",
       "      <th></th>\n",
       "      <th>Course Name</th>\n",
       "      <th>Course Description</th>\n",
       "      <th>Tags</th>\n",
       "    </tr>\n",
       "  </thead>\n",
       "  <tbody>\n",
       "    <tr>\n",
       "      <th>count</th>\n",
       "      <td>46</td>\n",
       "      <td>46</td>\n",
       "      <td>46</td>\n",
       "    </tr>\n",
       "    <tr>\n",
       "      <th>unique</th>\n",
       "      <td>29</td>\n",
       "      <td>46</td>\n",
       "      <td>42</td>\n",
       "    </tr>\n",
       "    <tr>\n",
       "      <th>top</th>\n",
       "      <td>Advanced Python Programming</td>\n",
       "      <td>Learn the fundamentals of Python programming l...</td>\n",
       "      <td>programming, python</td>\n",
       "    </tr>\n",
       "    <tr>\n",
       "      <th>freq</th>\n",
       "      <td>3</td>\n",
       "      <td>1</td>\n",
       "      <td>2</td>\n",
       "    </tr>\n",
       "  </tbody>\n",
       "</table>\n",
       "</div>"
      ],
      "text/plain": [
       "                        Course Name  \\\n",
       "count                            46   \n",
       "unique                           29   \n",
       "top     Advanced Python Programming   \n",
       "freq                              3   \n",
       "\n",
       "                                       Course Description                 Tags  \n",
       "count                                                  46                   46  \n",
       "unique                                                 46                   42  \n",
       "top     Learn the fundamentals of Python programming l...  programming, python  \n",
       "freq                                                    1                    2  "
      ]
     },
     "execution_count": 11,
     "metadata": {},
     "output_type": "execute_result"
    }
   ],
   "source": [
    "courses.describe()\n"
   ]
  },
  {
   "cell_type": "code",
   "execution_count": 12,
   "metadata": {},
   "outputs": [
    {
     "data": {
      "text/plain": [
       "Course Name           0\n",
       "Course Description    0\n",
       "Tags                  0\n",
       "dtype: int64"
      ]
     },
     "execution_count": 12,
     "metadata": {},
     "output_type": "execute_result"
    }
   ],
   "source": [
    "courses.isnull().sum()"
   ]
  },
  {
   "cell_type": "code",
   "execution_count": 13,
   "metadata": {},
   "outputs": [],
   "source": [
    "for i in courses.columns:\n",
    "\n",
    "    if(courses[i].dtype == object):\n",
    "        courses[i]= courses[i].str.lower()"
   ]
  },
  {
   "cell_type": "code",
   "execution_count": 14,
   "metadata": {},
   "outputs": [],
   "source": [
    "courses['Course Description']= courses['Course Description'].apply(lambda x: x.split())"
   ]
  },
  {
   "cell_type": "code",
   "execution_count": 15,
   "metadata": {},
   "outputs": [
    {
     "name": "stdout",
     "output_type": "stream",
     "text": [
      "programming,python\n"
     ]
    }
   ],
   "source": [
    "punc = ['[',']','\\'',]\n",
    "\n",
    "def rmvPunc(txt):\n",
    "    \n",
    "    for i in punc:\n",
    "        txt = txt.replace(i,'')\n",
    "\n",
    "    return txt\n",
    "\n",
    "def getName(list1):\n",
    "\n",
    "    modList = []\n",
    "\n",
    "    for i in list1:\n",
    "        modList.append(rmvPunc(i))\n",
    "\n",
    "def remSpaces(txt):\n",
    "\n",
    "    woSpace = txt.replace(' ','')\n",
    "\n",
    "    return woSpace\n",
    "\n",
    "print(remSpaces(courses['Tags'][0]))\n",
    "\n",
    "courses['Tags']= courses['Tags'].apply(remSpaces)\n",
    "\n",
    "courses['Tags']= courses['Tags'].apply(rmvPunc)"
   ]
  },
  {
   "cell_type": "code",
   "execution_count": 16,
   "metadata": {},
   "outputs": [],
   "source": [
    "courses['Tags']= courses['Tags'].apply(lambda x: x.split(','))"
   ]
  },
  {
   "cell_type": "code",
   "execution_count": 17,
   "metadata": {},
   "outputs": [],
   "source": [
    "from nltk.stem.porter import PorterStemmer\n",
    "ps = PorterStemmer()\n",
    "\n",
    "def stemmed(text):\n",
    "\n",
    "    return \" \".join([ps.stem(word) for word in text])"
   ]
  },
  {
   "cell_type": "code",
   "execution_count": 18,
   "metadata": {},
   "outputs": [
    {
     "data": {
      "text/html": [
       "<div>\n",
       "<style scoped>\n",
       "    .dataframe tbody tr th:only-of-type {\n",
       "        vertical-align: middle;\n",
       "    }\n",
       "\n",
       "    .dataframe tbody tr th {\n",
       "        vertical-align: top;\n",
       "    }\n",
       "\n",
       "    .dataframe thead th {\n",
       "        text-align: right;\n",
       "    }\n",
       "</style>\n",
       "<table border=\"1\" class=\"dataframe\">\n",
       "  <thead>\n",
       "    <tr style=\"text-align: right;\">\n",
       "      <th></th>\n",
       "      <th>Course Name</th>\n",
       "      <th>Course Description</th>\n",
       "      <th>Tags</th>\n",
       "    </tr>\n",
       "  </thead>\n",
       "  <tbody>\n",
       "    <tr>\n",
       "      <th>0</th>\n",
       "      <td>introduction to python programming</td>\n",
       "      <td>[learn, the, fundamentals, of, python, program...</td>\n",
       "      <td>[programming, python]</td>\n",
       "    </tr>\n",
       "    <tr>\n",
       "      <th>1</th>\n",
       "      <td>web development with html and css</td>\n",
       "      <td>[build, static, web, pages, using, html, and, ...</td>\n",
       "      <td>[webdevelopment, html, css]</td>\n",
       "    </tr>\n",
       "    <tr>\n",
       "      <th>2</th>\n",
       "      <td>machine learning fundamentals</td>\n",
       "      <td>[an, introductory, course, to, machine, learni...</td>\n",
       "      <td>[machinelearning, ai]</td>\n",
       "    </tr>\n",
       "    <tr>\n",
       "      <th>3</th>\n",
       "      <td>preparation for jee main</td>\n",
       "      <td>[comprehensive, preparation, for, the, jee, ma...</td>\n",
       "      <td>[jee, engineering, exampreparation]</td>\n",
       "    </tr>\n",
       "    <tr>\n",
       "      <th>4</th>\n",
       "      <td>advanced python programming</td>\n",
       "      <td>[explore, advanced, python, topics, like, deco...</td>\n",
       "      <td>[programming, python]</td>\n",
       "    </tr>\n",
       "  </tbody>\n",
       "</table>\n",
       "</div>"
      ],
      "text/plain": [
       "                          Course Name  \\\n",
       "0  introduction to python programming   \n",
       "1   web development with html and css   \n",
       "2       machine learning fundamentals   \n",
       "3            preparation for jee main   \n",
       "4         advanced python programming   \n",
       "\n",
       "                                  Course Description  \\\n",
       "0  [learn, the, fundamentals, of, python, program...   \n",
       "1  [build, static, web, pages, using, html, and, ...   \n",
       "2  [an, introductory, course, to, machine, learni...   \n",
       "3  [comprehensive, preparation, for, the, jee, ma...   \n",
       "4  [explore, advanced, python, topics, like, deco...   \n",
       "\n",
       "                                  Tags  \n",
       "0                [programming, python]  \n",
       "1          [webdevelopment, html, css]  \n",
       "2                [machinelearning, ai]  \n",
       "3  [jee, engineering, exampreparation]  \n",
       "4                [programming, python]  "
      ]
     },
     "execution_count": 18,
     "metadata": {},
     "output_type": "execute_result"
    }
   ],
   "source": [
    "courses.head()"
   ]
  },
  {
   "cell_type": "code",
   "execution_count": 19,
   "metadata": {},
   "outputs": [],
   "source": [
    "courses['taglines'] = courses['Course Description']+ courses['Tags']"
   ]
  },
  {
   "cell_type": "code",
   "execution_count": 20,
   "metadata": {},
   "outputs": [
    {
     "data": {
      "text/html": [
       "<div>\n",
       "<style scoped>\n",
       "    .dataframe tbody tr th:only-of-type {\n",
       "        vertical-align: middle;\n",
       "    }\n",
       "\n",
       "    .dataframe tbody tr th {\n",
       "        vertical-align: top;\n",
       "    }\n",
       "\n",
       "    .dataframe thead th {\n",
       "        text-align: right;\n",
       "    }\n",
       "</style>\n",
       "<table border=\"1\" class=\"dataframe\">\n",
       "  <thead>\n",
       "    <tr style=\"text-align: right;\">\n",
       "      <th></th>\n",
       "      <th>Course Name</th>\n",
       "      <th>Course Description</th>\n",
       "      <th>Tags</th>\n",
       "      <th>taglines</th>\n",
       "    </tr>\n",
       "  </thead>\n",
       "  <tbody>\n",
       "    <tr>\n",
       "      <th>0</th>\n",
       "      <td>introduction to python programming</td>\n",
       "      <td>[learn, the, fundamentals, of, python, program...</td>\n",
       "      <td>[programming, python]</td>\n",
       "      <td>[learn, the, fundamentals, of, python, program...</td>\n",
       "    </tr>\n",
       "    <tr>\n",
       "      <th>1</th>\n",
       "      <td>web development with html and css</td>\n",
       "      <td>[build, static, web, pages, using, html, and, ...</td>\n",
       "      <td>[webdevelopment, html, css]</td>\n",
       "      <td>[build, static, web, pages, using, html, and, ...</td>\n",
       "    </tr>\n",
       "    <tr>\n",
       "      <th>2</th>\n",
       "      <td>machine learning fundamentals</td>\n",
       "      <td>[an, introductory, course, to, machine, learni...</td>\n",
       "      <td>[machinelearning, ai]</td>\n",
       "      <td>[an, introductory, course, to, machine, learni...</td>\n",
       "    </tr>\n",
       "    <tr>\n",
       "      <th>3</th>\n",
       "      <td>preparation for jee main</td>\n",
       "      <td>[comprehensive, preparation, for, the, jee, ma...</td>\n",
       "      <td>[jee, engineering, exampreparation]</td>\n",
       "      <td>[comprehensive, preparation, for, the, jee, ma...</td>\n",
       "    </tr>\n",
       "    <tr>\n",
       "      <th>4</th>\n",
       "      <td>advanced python programming</td>\n",
       "      <td>[explore, advanced, python, topics, like, deco...</td>\n",
       "      <td>[programming, python]</td>\n",
       "      <td>[explore, advanced, python, topics, like, deco...</td>\n",
       "    </tr>\n",
       "  </tbody>\n",
       "</table>\n",
       "</div>"
      ],
      "text/plain": [
       "                          Course Name  \\\n",
       "0  introduction to python programming   \n",
       "1   web development with html and css   \n",
       "2       machine learning fundamentals   \n",
       "3            preparation for jee main   \n",
       "4         advanced python programming   \n",
       "\n",
       "                                  Course Description  \\\n",
       "0  [learn, the, fundamentals, of, python, program...   \n",
       "1  [build, static, web, pages, using, html, and, ...   \n",
       "2  [an, introductory, course, to, machine, learni...   \n",
       "3  [comprehensive, preparation, for, the, jee, ma...   \n",
       "4  [explore, advanced, python, topics, like, deco...   \n",
       "\n",
       "                                  Tags  \\\n",
       "0                [programming, python]   \n",
       "1          [webdevelopment, html, css]   \n",
       "2                [machinelearning, ai]   \n",
       "3  [jee, engineering, exampreparation]   \n",
       "4                [programming, python]   \n",
       "\n",
       "                                            taglines  \n",
       "0  [learn, the, fundamentals, of, python, program...  \n",
       "1  [build, static, web, pages, using, html, and, ...  \n",
       "2  [an, introductory, course, to, machine, learni...  \n",
       "3  [comprehensive, preparation, for, the, jee, ma...  \n",
       "4  [explore, advanced, python, topics, like, deco...  "
      ]
     },
     "execution_count": 20,
     "metadata": {},
     "output_type": "execute_result"
    }
   ],
   "source": [
    "courses.head()"
   ]
  },
  {
   "cell_type": "code",
   "execution_count": 21,
   "metadata": {},
   "outputs": [],
   "source": [
    "courses['taglines'] =courses['taglines'].apply(stemmed)"
   ]
  },
  {
   "cell_type": "code",
   "execution_count": 22,
   "metadata": {},
   "outputs": [],
   "source": [
    "from sklearn.feature_extraction.text import CountVectorizer\n",
    "cv= CountVectorizer(max_features= 200) \n",
    "vectors  = cv.fit_transform(courses['taglines']).toarray()"
   ]
  },
  {
   "cell_type": "code",
   "execution_count": 23,
   "metadata": {},
   "outputs": [
    {
     "data": {
      "text/plain": [
       "array(['10', 'acm', 'adob', 'adobeillustr', 'advanc',\n",
       "       'advancedcompetitiveprogram', 'advanceddesign', 'advanceddsa',\n",
       "       'advancedpython', 'advancedsystemdesign', 'ai', 'algorithm',\n",
       "       'algorithms', 'an', 'analysi', 'and', 'android', 'app',\n",
       "       'appdevelop', 'applications', 'aptitude', 'architectur',\n",
       "       'architecture', 'arrays', 'automation', 'back', 'basic', 'beginn',\n",
       "       'beginners', 'biology', 'board', 'boardexam', 'both', 'build',\n",
       "       'cbse', 'cgl', 'challeng', 'chemistry', 'civil', 'civilservic',\n",
       "       'class', 'class10', 'code', 'color', 'combin', 'commun',\n",
       "       'communication', 'competit', 'competitions', 'competitiveprogram',\n",
       "       'comprehens', 'comput', 'concepts', 'concurrency', 'contests',\n",
       "       'conversations', 'cours', 'course', 'cover', 'creat', 'css',\n",
       "       'data', 'databas', 'datasci', 'datastructur', 'decorators', 'deep',\n",
       "       'deeplearn', 'depth', 'design', 'develop', 'development',\n",
       "       'distribut', 'dive', 'dsa', 'dynam', 'effect', 'end', 'engin',\n",
       "       'english', 'exam', 'examprepar', 'exercis', 'experi', 'explor',\n",
       "       'focu', 'for', 'front', 'graduat', 'graphic', 'graphicdesign',\n",
       "       'html', 'illustr', 'immers', 'in', 'interfac', 'intermedi',\n",
       "       'intermediate', 'into', 'introduct', 'introductori', 'java',\n",
       "       'javafx', 'javascript', 'jee', 'kotlin', 'languag', 'language',\n",
       "       'learn', 'level', 'librari', 'like', 'link', 'lists', 'logos',\n",
       "       'machin', 'machinelearn', 'main', 'master', 'metaprogramming',\n",
       "       'more', 'naturallanguageprocess', 'nlp', 'numpi', 'of', 'on',\n",
       "       'optimization', 'or', 'ori', 'other', 'page', 'panda', 'particip',\n",
       "       'perform', 'physic', 'practic', 'prepar', 'principl', 'principles',\n",
       "       'program', 'programming', 'prototyping', 'python', 'quantit',\n",
       "       'reasoning', 'research', 'role', 'scalability', 'scalabl',\n",
       "       'scienc', 'scratch', 'search', 'servic', 'sharding', 'skill',\n",
       "       'skills', 'solv', 'sorting', 'spanish', 'speak', 'ssc', 'stack',\n",
       "       'start', 'static', 'strategies', 'structur', 'structures', 'studi',\n",
       "       'stun', 'system', 'systemdesign', 'systems', 'techniqu',\n",
       "       'technolog', 'tensorflow', 'testing', 'text', 'the', 'theory',\n",
       "       'to', 'tolerance', 'topic', 'topics', 'typographi', 'ui',\n",
       "       'understand', 'understanding', 'upsc', 'usabl', 'use', 'user',\n",
       "       'userexperi', 'ux', 'vector', 'visual', 'vocabulary', 'web',\n",
       "       'webdevelop', 'wireframing', 'with'], dtype=object)"
      ]
     },
     "execution_count": 23,
     "metadata": {},
     "output_type": "execute_result"
    }
   ],
   "source": [
    "cv.get_feature_names_out()"
   ]
  },
  {
   "cell_type": "code",
   "execution_count": 24,
   "metadata": {},
   "outputs": [
    {
     "name": "stdout",
     "output_type": "stream",
     "text": [
      "(46, 4)\n"
     ]
    }
   ],
   "source": [
    "from sklearn.metrics.pairwise import cosine_similarity\n",
    "similarity = cosine_similarity(vectors)\n",
    "\n",
    "print(courses.shape)"
   ]
  },
  {
   "cell_type": "code",
   "execution_count": 25,
   "metadata": {},
   "outputs": [
    {
     "name": "stdout",
     "output_type": "stream",
     "text": [
      "[(12, 0.5367450401216931), (5, 0.45184805705753184), (8, 0.1690308509457033), (9, 0.12171612389003691)]\n"
     ]
    }
   ],
   "source": [
    "print(sorted(list(enumerate(similarity[1])),reverse=True,key=lambda x: x[1])[1:5])"
   ]
  },
  {
   "cell_type": "code",
   "execution_count": 27,
   "metadata": {},
   "outputs": [
    {
     "name": "stdout",
     "output_type": "stream",
     "text": [
      "As u have finished 'advanced python programming' ,so u might also be interested in:\n",
      "1 .  ADVANCED PYTHON PROGRAMMING\n",
      "2 .  ADVANCED PYTHON PROGRAMMING\n",
      "3 .  INTRODUCTION TO PYTHON PROGRAMMING\n",
      "4 .  DATA SCIENCE WITH PYTHON\n",
      "5 .  ADVANCED DSA TECHNIQUES\n"
     ]
    }
   ],
   "source": [
    "#Courses RECOMMENDER\n",
    "course= int(input(\"Enter course name(id) liked: \"))\n",
    "\n",
    "helper = sorted(list(enumerate(similarity[course])),reverse=True,key=lambda x: x[1])[1:6]\n",
    "\n",
    "print(\"As u have finished '{}' ,so u might also be interested in:\".format(courses['Course Name'][course]))\n",
    "\n",
    "lst = []\n",
    "\n",
    "for i in helper:\n",
    "    if(i[1] > 0.20):\n",
    "        lst.append(i[0]) \n",
    "pos = 1\n",
    "for i in lst:\n",
    "    print(pos,\". \",courses['Course Name'][i].upper())\n",
    "    pos+=1"
   ]
  },
  {
   "cell_type": "code",
   "execution_count": null,
   "metadata": {},
   "outputs": [],
   "source": [
    "# Multiple courses taken (in form of an array) => recommend new courses to them\n",
    "\n",
    "def recommender_courses(course_list):\n",
    "    \n",
    "    similarCourses = set()\n",
    "    \n",
    "    for i in course_list:\n",
    "        helper = sorted(list(enumerate(similarity[i])),reverse=True,key=lambda x: x[1])[1:6]\n",
    "        \n",
    "        for j in helper:\n",
    "            similarCourses.add((j[0],j[1]))\n",
    "\n",
    "    # print(similarCourses)\n",
    "\n",
    "    pair_list = list(similarCourses)\n",
    "\n",
    "    sorted_courses = sorted(pair_list, key=lambda x: x[1], reverse=True)\n",
    "   \n",
    "    # print(sorted_courses)\n",
    "    lst = []\n",
    "\n",
    "    for i in sorted_courses:\n",
    "        if(i[1] > 0.30):\n",
    "            lst.append(i[0])\n",
    "\n",
    "    # for i in lst:\n",
    "    #     print(i)\n",
    "    pos = 1\n",
    "    for i in lst:\n",
    "        print(pos,\". \",courses['Course Name'][i].upper())\n",
    "        pos+=1"
   ]
  },
  {
   "cell_type": "code",
   "execution_count": null,
   "metadata": {},
   "outputs": [],
   "source": [
    "coursestaken = [0,1,2]\n",
    "recommender_courses(coursestaken)"
   ]
  },
  {
   "cell_type": "code",
   "execution_count": null,
   "metadata": {},
   "outputs": [],
   "source": [
    "import pickle as pkl\n",
    "\n",
    "pkl.dump(similarity, open(\"similarityMatrix.pkl\",\"wb\")) "
   ]
  },
  {
   "cell_type": "code",
   "execution_count": null,
   "metadata": {},
   "outputs": [],
   "source": [
    "import pandas as pd\n",
    "products = pd.read_csv(\"products.csv\")\n",
    "products.head()"
   ]
  },
  {
   "cell_type": "code",
   "execution_count": null,
   "metadata": {},
   "outputs": [],
   "source": []
  },
  {
   "cell_type": "code",
   "execution_count": null,
   "metadata": {},
   "outputs": [],
   "source": []
  },
  {
   "cell_type": "code",
   "execution_count": null,
   "metadata": {},
   "outputs": [],
   "source": []
  }
 ],
 "metadata": {
  "kernelspec": {
   "display_name": "Python 3",
   "language": "python",
   "name": "python3"
  },
  "language_info": {
   "codemirror_mode": {
    "name": "ipython",
    "version": 3
   },
   "file_extension": ".py",
   "mimetype": "text/x-python",
   "name": "python",
   "nbconvert_exporter": "python",
   "pygments_lexer": "ipython3",
   "version": "3.11.4"
  }
 },
 "nbformat": 4,
 "nbformat_minor": 2
}
